{
 "cells": [
  {
   "cell_type": "code",
   "execution_count": null,
   "id": "f4f42e30",
   "metadata": {},
   "outputs": [],
   "source": [
    "# SQL Agent Example\n",
    "# \n",
    "# This notebook demonstrates how to use the SQL Agent for natural language database interactions.\n",
    "# The SQL Agent can convert natural language queries into SQL operations and return results in plain English.\n",
    "\n",
    "import os\n",
    "import sqlite3\n",
    "\n",
    "# Set your OpenAI API key\n",
    "os.environ[\"OPENAI_API_KEY\"] = \"your_openai_api_key_here\"\n"
   ]
  },
  {
   "cell_type": "code",
   "execution_count": 2,
   "id": "0f02167e",
   "metadata": {},
   "outputs": [
    {
     "name": "stdout",
     "output_type": "stream",
     "text": [
      "File downloaded and saved as Chinook.db\n"
     ]
    }
   ],
   "source": [
    "import requests\n",
    "\n",
    "url = \"https://storage.googleapis.com/benchmarks-artifacts/chinook/Chinook.db\"\n",
    "\n",
    "response = requests.get(url)\n",
    "\n",
    "if response.status_code == 200:\n",
    "    # Open a local file in binary write mode\n",
    "    with open(\"Chinook.db\", \"wb\") as file:\n",
    "        # Write the content of the response (the file) to the local file\n",
    "        file.write(response.content)\n",
    "    print(\"File downloaded and saved as Chinook.db\")\n",
    "else:\n",
    "    print(f\"Failed to download the file. Status code: {response.status_code}\")"
   ]
  },
  {
   "cell_type": "code",
   "execution_count": 3,
   "id": "97v3isje34",
   "metadata": {},
   "outputs": [],
   "source": [
    "# Quick Example - Set up and ask a simple question\n",
    "from uuid import uuid4\n",
    "from sql_agent.database import SQLDatabase\n",
    "from sql_agent.agent import SQLAgent\n",
    "\n",
    "\n",
    "async def quick_example():\n",
    "    # Create database connection and agent\n",
    "    db = SQLDatabase(\"sqlite:///Chinook.db\")  \n",
    "    uuid = uuid4()\n",
    "    agent = SQLAgent(db, str(uuid))\n",
    "    \n",
    "    # Ask a simple question\n",
    "    response = await agent.run(\"How many customers do we have in total?\")\n",
    "    response = await agent.run(\"How much is that multipled by 2?\")\n",
    "    return response\n",
    "    \n",
    "# Run the example\n",
    "response = await quick_example()"
   ]
  },
  {
   "cell_type": "code",
   "execution_count": 4,
   "id": "44046e52",
   "metadata": {},
   "outputs": [
    {
     "data": {
      "text/plain": [
       "'The total number of customers multiplied by 2 is 118.'"
      ]
     },
     "execution_count": 4,
     "metadata": {},
     "output_type": "execute_result"
    }
   ],
   "source": [
    "response.response"
   ]
  },
  {
   "cell_type": "code",
   "execution_count": 5,
   "id": "e6387325",
   "metadata": {},
   "outputs": [
    {
     "data": {
      "text/plain": [
       "[{'role': 'system',\n",
       "  'content': 'system_prompt = \"\"\"\\nYou are an agent designed to interact with a SQL database.\\nGiven an input question, create a syntactically correct query to run,\\nthen look at the results of the query and return the answer. Unless the user\\nspecifies a specific number of examples they wish to obtain, always limit your\\nquery to at most 5 results.\\n\\nYou can order the results by a relevant column to return the most interesting\\nexamples in the database. Never query for all the columns from a specific table,\\nonly ask for the relevant columns given the question.\\n\\nYou MUST double check your query before executing it. If you get an error while\\nexecuting a query, rewrite the query and try again.\\n\\nDO NOT make any DML statements (INSERT, UPDATE, DELETE, DROP etc.) to the\\ndatabase.\\n\\nTo start you should ALWAYS look at the tables in the database to see what you\\ncan query. Do NOT skip this step.\\n\\nThen you should query the schema of the most relevant tables.\\n\"\"'},\n",
       " {'role': 'user', 'content': 'How many customers do we have in total?'},\n",
       " {'role': 'assistant',\n",
       "  'tool_calls': [{'id': 'call_ctYWbiCSO8GMzLIAoyFFLp5H',\n",
       "    'function': {'arguments': '{\"empty_input\":\"\"}',\n",
       "     'name': 'sql_db_list_tables'},\n",
       "    'type': 'function'}]},\n",
       " {'role': 'tool',\n",
       "  'tool_call_id': 'call_ctYWbiCSO8GMzLIAoyFFLp5H',\n",
       "  'content': 'Album, Artist, Customer, Employee, Genre, Invoice, InvoiceLine, MediaType, Playlist, PlaylistTrack, Track'},\n",
       " {'role': 'assistant',\n",
       "  'tool_calls': [{'id': 'call_cSIb0xfv2Jn8NE18dbNaZnOJ',\n",
       "    'function': {'arguments': '{\"tables\":\"Customer\"}',\n",
       "     'name': 'sql_db_schema'},\n",
       "    'type': 'function'}]},\n",
       " {'role': 'tool',\n",
       "  'tool_call_id': 'call_cSIb0xfv2Jn8NE18dbNaZnOJ',\n",
       "  'content': '\\nTable: Customer\\nColumns:\\n  - CustomerId: INTEGER NOT NULL\\n  - FirstName: NVARCHAR(40) NOT NULL\\n  - LastName: NVARCHAR(20) NOT NULL\\n  - Company: NVARCHAR(80) NULL\\n  - Address: NVARCHAR(70) NULL\\n  - City: NVARCHAR(40) NULL\\n  - State: NVARCHAR(40) NULL\\n  - Country: NVARCHAR(40) NULL\\n  - PostalCode: NVARCHAR(10) NULL\\n  - Phone: NVARCHAR(24) NULL\\n  - Fax: NVARCHAR(24) NULL\\n  - Email: NVARCHAR(60) NOT NULL\\n  - SupportRepId: INTEGER NULL\\n\\nSample rows:\\nCustomerId | FirstName | LastName | Company | Address | City | State | Country | PostalCode | Phone | Fax | Email | SupportRepId\\n--------------------------------------------------------------------------------------------------------------------------------\\n1 | Luís | Gonçalves | Embraer - Empresa Brasileira de Aeronáutica S.A. | Av. Brigadeiro Faria Lima, 2170 | São José dos Campos | SP | Brazil | 12227-000 | +55 (12) 3923-5555 | +55 (12) 3923-5566 | luisg@embraer.com.br | 3\\n2 | Leonie | Köhler | NULL | Theodor-Heuss-Straße 34 | Stuttgart | NULL | Germany | 70174 | +49 0711 2842222 | NULL | leonekohler@surfeu.de | 5\\n3 | François | Tremblay | NULL | 1498 rue Bélanger | Montréal | QC | Canada | H2G 1A7 | +1 (514) 721-4711 | NULL | ftremblay@gmail.com | 3'},\n",
       " {'role': 'assistant',\n",
       "  'tool_calls': [{'id': 'call_kQETFLbE1BTi1OcC29v0JOVk',\n",
       "    'function': {'arguments': '{\"query\":\"SELECT COUNT(CustomerId) AS TotalCustomers FROM Customer;\"}',\n",
       "     'name': 'sql_db_query_checker'},\n",
       "    'type': 'function'}]},\n",
       " {'role': 'tool',\n",
       "  'tool_call_id': 'call_kQETFLbE1BTi1OcC29v0JOVk',\n",
       "  'content': '✓ Query syntax is valid.'},\n",
       " {'role': 'assistant',\n",
       "  'tool_calls': [{'id': 'call_vFm4bBn3n0m62CxikOkxCCmn',\n",
       "    'function': {'arguments': '{\"query\":\"SELECT COUNT(CustomerId) AS TotalCustomers FROM Customer;\"}',\n",
       "     'name': 'sql_db_query'},\n",
       "    'type': 'function'}]},\n",
       " {'role': 'tool',\n",
       "  'tool_call_id': 'call_vFm4bBn3n0m62CxikOkxCCmn',\n",
       "  'content': 'TotalCustomers\\n--------------\\n59'},\n",
       " {'role': 'assistant',\n",
       "  'content': 'There are a total of 59 customers in the database.'},\n",
       " {'role': 'user', 'content': 'How much is that multipled by 2?'},\n",
       " {'role': 'assistant',\n",
       "  'tool_calls': [{'id': 'call_pGRQXfpJt6L7tfgrJ6etcUWH',\n",
       "    'function': {'arguments': '{\"query\":\"SELECT COUNT(CustomerId) * 2 AS TotalCustomersTimesTwo FROM Customer;\"}',\n",
       "     'name': 'sql_db_query_checker'},\n",
       "    'type': 'function'}]},\n",
       " {'role': 'tool',\n",
       "  'tool_call_id': 'call_pGRQXfpJt6L7tfgrJ6etcUWH',\n",
       "  'content': '✓ Query syntax is valid.'},\n",
       " {'role': 'assistant',\n",
       "  'tool_calls': [{'id': 'call_ui0RaSRavOAvAzSB8i1OgqHz',\n",
       "    'function': {'arguments': '{\"query\":\"SELECT COUNT(CustomerId) * 2 AS TotalCustomersTimesTwo FROM Customer;\"}',\n",
       "     'name': 'sql_db_query'},\n",
       "    'type': 'function'}]},\n",
       " {'role': 'tool',\n",
       "  'tool_call_id': 'call_ui0RaSRavOAvAzSB8i1OgqHz',\n",
       "  'content': 'TotalCustomersTimesTwo\\n----------------------\\n118'},\n",
       " {'role': 'assistant',\n",
       "  'content': 'The total number of customers multiplied by 2 is 118.'}]"
      ]
     },
     "execution_count": 5,
     "metadata": {},
     "output_type": "execute_result"
    }
   ],
   "source": [
    "response.history"
   ]
  },
  {
   "cell_type": "code",
   "execution_count": null,
   "id": "15626043",
   "metadata": {},
   "outputs": [],
   "source": []
  }
 ],
 "metadata": {
  "kernelspec": {
   "display_name": "open-simulator",
   "language": "python",
   "name": "python3"
  },
  "language_info": {
   "codemirror_mode": {
    "name": "ipython",
    "version": 3
   },
   "file_extension": ".py",
   "mimetype": "text/x-python",
   "name": "python",
   "nbconvert_exporter": "python",
   "pygments_lexer": "ipython3",
   "version": "3.11.13"
  }
 },
 "nbformat": 4,
 "nbformat_minor": 5
}
